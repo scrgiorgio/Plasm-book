{
 "cells": [
  {
   "cell_type": "code",
   "execution_count": 1,
   "id": "e77c956f",
   "metadata": {},
   "outputs": [],
   "source": [
    "using Plasm"
   ]
  },
  {
   "cell_type": "code",
   "execution_count": 2,
   "id": "de8c2266",
   "metadata": {},
   "outputs": [
    {
     "data": {
      "text/plain": [
       "Hpc(MatrixNd([[1.0, 0.0, 0.0, 0.0], [0.0, 2.0, 0.0, 0.0], [0.0, 0.0, 4.0, 0.0], [0.0, 0.0, 0.0, 6.0]]), Hpc(MatrixNd(4), Geometry([[0.0, 0.0, 0.0], [1.0, 0.0, 0.0], [0.0, 1.0, 0.0], [1.0, 1.0, 0.0], [0.0, 0.0, 1.0], [1.0, 0.0, 1.0], [0.0, 1.0, 1.0], [1.0, 1.0, 1.0]], hulls=[[1, 2, 3, 4, 5, 6, 7, 8]])))"
      ]
     },
     "execution_count": 2,
     "metadata": {},
     "output_type": "execute_result"
    }
   ],
   "source": [
    "obj = CUBOID([2,4,6])"
   ]
  },
  {
   "cell_type": "markdown",
   "id": "4c00c5e0",
   "metadata": {},
   "source": [
    "## Example of visualization"
   ]
  },
  {
   "cell_type": "code",
   "execution_count": null,
   "id": "dbb3b1c8",
   "metadata": {},
   "outputs": [
    {
     "name": "stdout",
     "output_type": "stream",
     "text": [
      "use_ortho true\n",
      "use_ortho "
     ]
    }
   ],
   "source": [
    "VIEW(obj, Dict(\"background_color\"=>[1.,1.,1.]))"
   ]
  },
  {
   "cell_type": "code",
   "execution_count": null,
   "id": "3870a319",
   "metadata": {},
   "outputs": [],
   "source": []
  }
 ],
 "metadata": {
  "kernelspec": {
   "display_name": "Julia 1.10.4",
   "language": "julia",
   "name": "julia-1.10"
  },
  "language_info": {
   "file_extension": ".jl",
   "mimetype": "application/julia",
   "name": "julia",
   "version": "1.10.4"
  }
 },
 "nbformat": 4,
 "nbformat_minor": 5
}
